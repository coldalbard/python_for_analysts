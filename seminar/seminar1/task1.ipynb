{
 "cells": [
  {
   "cell_type": "markdown",
   "metadata": {},
   "source": [
    "# Задача1\n",
    "## 1.1 Соедините два словаря в один\n",
    "## 1.2 Напишите функцию, которая на вход принимает два \n",
    "словаря и возвращает один объединенный словарь\n",
    "Используйте аннотирование типов"
   ]
  },
  {
   "cell_type": "code",
   "execution_count": 9,
   "metadata": {},
   "outputs": [
    {
     "name": "stdout",
     "output_type": "stream",
     "text": [
      "{'One': 1, 'Two': 2, 'Three': 3, 'Four': 4, 'Five': 5, 'Six': 6}\n"
     ]
    }
   ],
   "source": [
    "dict1 = {'One':1, 'Two':2, 'Three':3}\n",
    "dict2 = {'Four':4, 'Five':5, 'Six':6}\n",
    "def join_dict(d1, d2):\n",
    "    d1.update(d2)\n",
    "join_dict(dict1, dict2)\n",
    "print(dict1)"
   ]
  },
  {
   "cell_type": "markdown",
   "metadata": {},
   "source": [
    "# Задание 2\n",
    "Напишите функцию, которая из двух списков, делает один словарь, где \n",
    "элементы из первого списка - ключи, а элементы из второго списка - \n",
    "значения\n",
    "## 2.1 Используя цикл for\n",
    "## 2.2 Используя dict comprehensions"
   ]
  },
  {
   "cell_type": "code",
   "execution_count": 15,
   "metadata": {},
   "outputs": [
    {
     "name": "stdout",
     "output_type": "stream",
     "text": [
      "{'One': 1, 'Two': 2, 'Three': 3}\n",
      "{'One': 1, 'Two': 2, 'Three': 3}\n"
     ]
    }
   ],
   "source": [
    "keys = ['One', 'Two', 'Three']\n",
    "values = [1, 2, 3]\n",
    "def CreateDict(k: list, v: list) -> dict:\n",
    "    dict1 = {}\n",
    "    for i in range(len(k)):\n",
    "        dict1[k[i]] = v[i]\n",
    "    return dict1\n",
    "dict = CreateDict(keys, values)\n",
    "print(dict)\n",
    "dict = {keys[i] : values[i] for i in range(len(keys))}\n",
    "print(dict)"
   ]
  },
  {
   "cell_type": "markdown",
   "metadata": {},
   "source": [
    "# Задание 3.\n",
    "Извлеките только два ключа name и age из представленного \n",
    "словаря\n",
    "## 3.1 Напишите функцию с циклом for\n",
    "Функция на вход принимает:\n",
    "* исходный словарь\n",
    "* ключи, которые нужно извлечь (аргумент по \n",
    "умолчанию)\n",
    "На выходе словарь с нужными ключами\n",
    "Используйте аннотирование типов\n",
    "## 3.2 Используя dict comprehensions"
   ]
  },
  {
   "cell_type": "code",
   "execution_count": 49,
   "metadata": {},
   "outputs": [
    {
     "name": "stdout",
     "output_type": "stream",
     "text": [
      "{'name': 'Jonh', 'age': 25}\n"
     ]
    }
   ],
   "source": [
    "def SearchKeys(dict, searchKeys):\n",
    "    res = {key : dict[key] for key in searchKeys if key in dict}\n",
    "    # return {i : dict[i] for i in searchKeys if i in dict}\n",
    "    return res\n",
    "d1 = {\n",
    "    \"name\" : \"Jonh\",\n",
    "    \"age\" : 25,\n",
    "    \"salary\" : 50000,\n",
    "    \"city\" : \"Moscow\"\n",
    "}\n",
    "dict1 = SearchKeys(d1, ['name', 'age'])\n",
    "print(dict1)"
   ]
  }
 ],
 "metadata": {
  "kernelspec": {
   "display_name": "Python 3",
   "language": "python",
   "name": "python3"
  },
  "language_info": {
   "codemirror_mode": {
    "name": "ipython",
    "version": 3
   },
   "file_extension": ".py",
   "mimetype": "text/x-python",
   "name": "python",
   "nbconvert_exporter": "python",
   "pygments_lexer": "ipython3",
   "version": "3.10.10"
  },
  "orig_nbformat": 4
 },
 "nbformat": 4,
 "nbformat_minor": 2
}
